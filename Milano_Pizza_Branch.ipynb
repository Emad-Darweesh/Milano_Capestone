{
    "cells": [
        {
            "cell_type": "code",
            "execution_count": 2,
            "metadata": {},
            "outputs": [
                {
                    "name": "stdout",
                    "output_type": "stream",
                    "text": "Ciao Milano!\n"
                }
            ],
            "source": "print(\"Ciao Milano!\")"
        },
        {
            "cell_type": "code",
            "execution_count": 4,
            "metadata": {},
            "outputs": [],
            "source": "import numpy as np\nimport scipy as sp\nimport pandas as pd\nimport requests\nfrom bs4 import BeautifulSoup"
        },
        {
            "cell_type": "code",
            "execution_count": 5,
            "metadata": {},
            "outputs": [
                {
                    "name": "stdout",
                    "output_type": "stream",
                    "text": "Solving environment: done\n\n## Package Plan ##\n\n  environment location: /opt/conda/envs/Python36\n\n  added / updated specs: \n    - folium=0.5.0\n\n\nThe following packages will be downloaded:\n\n    package                    |            build\n    ---------------------------|-----------------\n    branca-0.3.1               |             py_0          25 KB  conda-forge\n    openssl-1.1.1d             |       h516909a_0         2.1 MB  conda-forge\n    ca-certificates-2019.11.28 |       hecc5488_0         145 KB  conda-forge\n    certifi-2019.11.28         |           py36_0         149 KB  conda-forge\n    vincent-0.4.4              |             py_1          28 KB  conda-forge\n    altair-4.0.1               |             py_0         575 KB  conda-forge\n    folium-0.5.0               |             py_0          45 KB  conda-forge\n    ------------------------------------------------------------\n                                           Total:         3.0 MB\n\nThe following NEW packages will be INSTALLED:\n\n    altair:          4.0.1-py_0        conda-forge\n    branca:          0.3.1-py_0        conda-forge\n    folium:          0.5.0-py_0        conda-forge\n    vincent:         0.4.4-py_1        conda-forge\n\nThe following packages will be UPDATED:\n\n    ca-certificates: 2019.11.27-0                  --> 2019.11.28-hecc5488_0 conda-forge\n    certifi:         2019.11.28-py36_0             --> 2019.11.28-py36_0     conda-forge\n\nThe following packages will be DOWNGRADED:\n\n    openssl:         1.1.1d-h7b6447c_3             --> 1.1.1d-h516909a_0     conda-forge\n\n\nDownloading and Extracting Packages\nbranca-0.3.1         | 25 KB     | ##################################### | 100% \nopenssl-1.1.1d       | 2.1 MB    | ##################################### | 100% \nca-certificates-2019 | 145 KB    | ##################################### | 100% \ncertifi-2019.11.28   | 149 KB    | ##################################### | 100% \nvincent-0.4.4        | 28 KB     | ##################################### | 100% \naltair-4.0.1         | 575 KB    | ##################################### | 100% \nfolium-0.5.0         | 45 KB     | ##################################### | 100% \nPreparing transaction: done\nVerifying transaction: done\nExecuting transaction: done\nSolving environment: done\n\n## Package Plan ##\n\n  environment location: /opt/conda/envs/Python36\n\n  added / updated specs: \n    - geopy\n\n\nThe following packages will be downloaded:\n\n    package                    |            build\n    ---------------------------|-----------------\n    geographiclib-1.50         |             py_0          34 KB  conda-forge\n    geopy-1.20.0               |             py_0          57 KB  conda-forge\n    ------------------------------------------------------------\n                                           Total:          91 KB\n\nThe following NEW packages will be INSTALLED:\n\n    geographiclib: 1.50-py_0   conda-forge\n    geopy:         1.20.0-py_0 conda-forge\n\n\nDownloading and Extracting Packages\ngeographiclib-1.50   | 34 KB     | ##################################### | 100% \ngeopy-1.20.0         | 57 KB     | ##################################### | 100% \nPreparing transaction: done\nVerifying transaction: done\nExecuting transaction: done\ndone\n"
                }
            ],
            "source": "#Install Folium and MatPlotLib\n!conda install -c conda-forge folium=0.5.0 --yes\n!conda install -c conda-forge geopy --yes\nimport folium\nfrom folium.plugins import MarkerCluster\nfrom geopy.geocoders import Nominatim\nfrom sklearn.cluster import KMeans\nimport requests\nimport json\nfrom pandas.io.json import json_normalize\n\nimport matplotlib.cm as cm\nimport matplotlib.colors as colors\nprint('done')"
        },
        {
            "cell_type": "code",
            "execution_count": 11,
            "metadata": {},
            "outputs": [
                {
                    "data": {
                        "text/html": "<div>\n<style scoped>\n    .dataframe tbody tr th:only-of-type {\n        vertical-align: middle;\n    }\n\n    .dataframe tbody tr th {\n        vertical-align: top;\n    }\n\n    .dataframe thead th {\n        text-align: right;\n    }\n</style>\n<table border=\"1\" class=\"dataframe\">\n  <thead>\n    <tr style=\"text-align: right;\">\n      <th></th>\n      <th>Borough</th>\n      <th>Name</th>\n      <th>Area(km2)</th>\n      <th>Population(2014)</th>\n      <th>Population density(inhabitants/km2)</th>\n      <th>Quartieri (districts)</th>\n    </tr>\n  </thead>\n  <tbody>\n    <tr>\n      <th>0</th>\n      <td>1.0</td>\n      <td>Centro storico</td>\n      <td>9.67</td>\n      <td>96315.000</td>\n      <td>11074</td>\n      <td>Brera, Centro Storico, Conca del Naviglio, Gua...</td>\n    </tr>\n    <tr>\n      <th>1</th>\n      <td>2.0</td>\n      <td>Stazione Centrale, Gorla, Turro, Greco, Cresce...</td>\n      <td>12.58</td>\n      <td>153.109</td>\n      <td>13031</td>\n      <td>Adriano, Crescenzago, Gorla, Greco, Loreto, Ma...</td>\n    </tr>\n    <tr>\n      <th>2</th>\n      <td>3.0</td>\n      <td>Citt\u00e0 Studi, Lambrate, Porta Venezia</td>\n      <td>14.23</td>\n      <td>141229.000</td>\n      <td>10785</td>\n      <td>Casoretto, Cimiano, Citt\u00e0 Studi, Dosso, Lambra...</td>\n    </tr>\n    <tr>\n      <th>3</th>\n      <td>4.0</td>\n      <td>Porta Vittoria, Forlanini</td>\n      <td>20.95</td>\n      <td>156.369</td>\n      <td>8069</td>\n      <td>Acquabella, Calvairate, Castagnedo, Cavriano, ...</td>\n    </tr>\n    <tr>\n      <th>4</th>\n      <td>5.0</td>\n      <td>Vigentino, Chiaravalle, Gratosoglio</td>\n      <td>29.87</td>\n      <td>123779.000</td>\n      <td>4487</td>\n      <td>Basmetto, Cantalupa, Case Nuove, Chiaravalle, ...</td>\n    </tr>\n    <tr>\n      <th>5</th>\n      <td>6.0</td>\n      <td>Barona, Lorenteggio</td>\n      <td>18.28</td>\n      <td>149000.000</td>\n      <td>8998</td>\n      <td>Arzaga, Barona, Boffalora, Cascina Bianca, Con...</td>\n    </tr>\n    <tr>\n      <th>6</th>\n      <td>7.0</td>\n      <td>Baggio, De Angeli, San Siro</td>\n      <td>31.34</td>\n      <td>170814.000</td>\n      <td>6093</td>\n      <td>Assiano, Baggio, Figino, Fopponino, Forze Arma...</td>\n    </tr>\n    <tr>\n      <th>7</th>\n      <td>8.0</td>\n      <td>Fiera, Gallaratese, Quarto Oggiaro</td>\n      <td>23.72</td>\n      <td>181669.000</td>\n      <td>8326</td>\n      <td>Boldinasco, Bullona, Cagnola, Campo dei Fiori,...</td>\n    </tr>\n    <tr>\n      <th>8</th>\n      <td>9.0</td>\n      <td>Porta Garibaldi, Niguarda</td>\n      <td>21.12</td>\n      <td>181598.000</td>\n      <td>9204</td>\n      <td>Affori, Bicocca, Bovisa, Bovisasca, Bruzzano, ...</td>\n    </tr>\n    <tr>\n      <th>9</th>\n      <td>NaN</td>\n      <td>Total</td>\n      <td>181.76</td>\n      <td>1353882.000</td>\n      <td>8164</td>\n      <td>NaN</td>\n    </tr>\n  </tbody>\n</table>\n</div>",
                        "text/plain": "   Borough                                               Name  Area(km2)  \\\n0      1.0                                     Centro storico       9.67   \n1      2.0  Stazione Centrale, Gorla, Turro, Greco, Cresce...      12.58   \n2      3.0               Citt\u00e0 Studi, Lambrate, Porta Venezia      14.23   \n3      4.0                          Porta Vittoria, Forlanini      20.95   \n4      5.0                Vigentino, Chiaravalle, Gratosoglio      29.87   \n5      6.0                                Barona, Lorenteggio      18.28   \n6      7.0                        Baggio, De Angeli, San Siro      31.34   \n7      8.0                 Fiera, Gallaratese, Quarto Oggiaro      23.72   \n8      9.0                          Porta Garibaldi, Niguarda      21.12   \n9      NaN                                              Total     181.76   \n\n   Population(2014)  Population density(inhabitants/km2)  \\\n0         96315.000                                11074   \n1           153.109                                13031   \n2        141229.000                                10785   \n3           156.369                                 8069   \n4        123779.000                                 4487   \n5        149000.000                                 8998   \n6        170814.000                                 6093   \n7        181669.000                                 8326   \n8        181598.000                                 9204   \n9       1353882.000                                 8164   \n\n                               Quartieri (districts)  \n0  Brera, Centro Storico, Conca del Naviglio, Gua...  \n1  Adriano, Crescenzago, Gorla, Greco, Loreto, Ma...  \n2  Casoretto, Cimiano, Citt\u00e0 Studi, Dosso, Lambra...  \n3  Acquabella, Calvairate, Castagnedo, Cavriano, ...  \n4  Basmetto, Cantalupa, Case Nuove, Chiaravalle, ...  \n5  Arzaga, Barona, Boffalora, Cascina Bianca, Con...  \n6  Assiano, Baggio, Figino, Fopponino, Forze Arma...  \n7  Boldinasco, Bullona, Cagnola, Campo dei Fiori,...  \n8  Affori, Bicocca, Bovisa, Bovisasca, Bruzzano, ...  \n9                                                NaN  "
                    },
                    "execution_count": 11,
                    "metadata": {},
                    "output_type": "execute_result"
                }
            ],
            "source": "#Import List of Milan Districts\nres = requests.get(\"https://en.wikipedia.org/wiki/Municipalities_of_Milan\")\nsoup = BeautifulSoup(res.content,'lxml')\ntable = soup.find_all('table')[1] \ndf = pd.read_html(str(table))[0]\ndf"
        },
        {
            "cell_type": "code",
            "execution_count": null,
            "metadata": {},
            "outputs": [],
            "source": ""
        }
    ],
    "metadata": {
        "kernelspec": {
            "display_name": "Python 3.6",
            "language": "python",
            "name": "python3"
        },
        "language_info": {
            "codemirror_mode": {
                "name": "ipython",
                "version": 3
            },
            "file_extension": ".py",
            "mimetype": "text/x-python",
            "name": "python",
            "nbconvert_exporter": "python",
            "pygments_lexer": "ipython3",
            "version": "3.6.9"
        }
    },
    "nbformat": 4,
    "nbformat_minor": 1
}